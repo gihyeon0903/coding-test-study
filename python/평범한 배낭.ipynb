{
 "cells": [
  {
   "cell_type": "markdown",
   "id": "18202573-a361-4c3e-ac31-8929c3e624b8",
   "metadata": {},
   "source": [
    "입력"
   ]
  },
  {
   "cell_type": "code",
   "execution_count": 60,
   "id": "0c15ce1d-dcc8-4f6c-bc49-b401c032eef3",
   "metadata": {
    "tags": []
   },
   "outputs": [
    {
     "name": "stdin",
     "output_type": "stream",
     "text": [
      " 4 7\n"
     ]
    }
   ],
   "source": [
    "n, k = map(int, input().split())"
   ]
  },
  {
   "cell_type": "code",
   "execution_count": 2,
   "id": "4c16a2ab-5bd3-419c-afb9-05d4d9927f66",
   "metadata": {
    "tags": []
   },
   "outputs": [
    {
     "name": "stdin",
     "output_type": "stream",
     "text": [
      " 6 13\n",
      " 4 8\n",
      " 5 12\n",
      " 3 6\n"
     ]
    }
   ],
   "source": [
    "obj = [list(map(int, input().split())) for _ in range(n)]"
   ]
  },
  {
   "cell_type": "markdown",
   "id": "e2a6fb75-07c9-4443-9345-4deda5c37afc",
   "metadata": {},
   "source": [
    "알고리즘"
   ]
  },
  {
   "cell_type": "code",
   "execution_count": 33,
   "id": "b28f0143-da60-442d-8f76-4b304945c628",
   "metadata": {
    "tags": []
   },
   "outputs": [],
   "source": [
    "from collections import deque"
   ]
  },
  {
   "cell_type": "code",
   "execution_count": 70,
   "id": "bfe9378e-41d2-4501-b2c5-06ce80164901",
   "metadata": {
    "tags": []
   },
   "outputs": [],
   "source": [
    "knap_map = [[0]*(k+1) for _ in range(n+1)]"
   ]
  },
  {
   "cell_type": "code",
   "execution_count": 71,
   "id": "df5e03f8-dd4e-42ab-85aa-54434971c95d",
   "metadata": {
    "tags": []
   },
   "outputs": [
    {
     "data": {
      "text/plain": [
       "[[0, 0, 0, 0, 0, 0, 0, 0],\n",
       " [0, 0, 0, 0, 0, 0, 0, 0],\n",
       " [0, 0, 0, 0, 0, 0, 0, 0],\n",
       " [0, 0, 0, 0, 0, 0, 0, 0],\n",
       " [0, 0, 0, 0, 0, 0, 0, 0]]"
      ]
     },
     "execution_count": 71,
     "metadata": {},
     "output_type": "execute_result"
    }
   ],
   "source": [
    "knap_map"
   ]
  },
  {
   "cell_type": "code",
   "execution_count": 72,
   "id": "50ff3e1c-24d0-4576-a211-54e7ea1c4fe5",
   "metadata": {
    "tags": []
   },
   "outputs": [],
   "source": [
    "for i in range(1, n+1):\n",
    "    for j in range(1, k+1):\n",
    "        w = obj[i-1][0]\n",
    "        v = obj[i-1][1]\n",
    "        \n",
    "        # 만약 물건이 배낭 무게보다 크다면 이전 값을 유지.\n",
    "        if j < w:\n",
    "            knap_map[i][j] = knap_map[i-1][j]\n",
    "        # 만약 물건이 배낭 무게보다 작거나 같다면\n",
    "        else:\n",
    "            #1. 이전 값을 가져옴\n",
    "            #2. 이전 값의 물건 무게 만큼 뺀 인덱스의 값의 가치를 호출해 현재의 가치를 더해 초기화\n",
    "            knap_map[i][j] = max(v + knap_map[i-1][j-w], knap_map[i-1][j])"
   ]
  },
  {
   "cell_type": "code",
   "execution_count": 73,
   "id": "647fa9fb-3e21-4442-9b74-99b321c9c566",
   "metadata": {
    "tags": []
   },
   "outputs": [
    {
     "data": {
      "text/plain": [
       "[[0, 0, 0, 0, 0, 0, 0, 0],\n",
       " [0, 0, 0, 0, 0, 0, 13, 13],\n",
       " [0, 0, 0, 0, 8, 8, 13, 13],\n",
       " [0, 0, 0, 0, 8, 12, 13, 13],\n",
       " [0, 0, 0, 6, 8, 12, 13, 14]]"
      ]
     },
     "execution_count": 73,
     "metadata": {},
     "output_type": "execute_result"
    }
   ],
   "source": [
    "knap_mapp"
   ]
  },
  {
   "cell_type": "code",
   "execution_count": 78,
   "id": "aeef1133-1ef7-441f-a8dd-c754e1e6a404",
   "metadata": {
    "tags": []
   },
   "outputs": [
    {
     "data": {
      "text/plain": [
       "14"
      ]
     },
     "execution_count": 78,
     "metadata": {},
     "output_type": "execute_result"
    }
   ],
   "source": [
    "sorted(knap_map[-1])[-1]"
   ]
  },
  {
   "cell_type": "code",
   "execution_count": null,
   "id": "63a58fde-0df3-4d12-82a2-2d17bb22c5aa",
   "metadata": {},
   "outputs": [],
   "source": []
  }
 ],
 "metadata": {
  "kernelspec": {
   "display_name": "Python 3 (ipykernel)",
   "language": "python",
   "name": "python3"
  },
  "language_info": {
   "codemirror_mode": {
    "name": "ipython",
    "version": 3
   },
   "file_extension": ".py",
   "mimetype": "text/x-python",
   "name": "python",
   "nbconvert_exporter": "python",
   "pygments_lexer": "ipython3",
   "version": "3.8.16"
  }
 },
 "nbformat": 4,
 "nbformat_minor": 5
}
